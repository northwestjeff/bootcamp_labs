{
 "cells": [
  {
   "cell_type": "code",
   "execution_count": 1,
   "metadata": {
    "collapsed": true
   },
   "outputs": [],
   "source": [
    "# How many dollar bills would need to be stacked reach from Paris to Moscow?"
   ]
  },
  {
   "cell_type": "code",
   "execution_count": 7,
   "metadata": {},
   "outputs": [
    {
     "name": "stdout",
     "output_type": "stream",
     "text": [
      "2790.6976744186045\n"
     ]
    }
   ],
   "source": [
    "# Dollar Bill Thickness\n",
    "# http://www.ehd.org/science_technology_largenumbers.php\n",
    "one_bill_inch = 0.0043\n",
    "bills_per_inch = 1 / one_bill_inch\n",
    "bills_per_foot = bills_per_inch * 12\n",
    "print(bills_per_foot)"
   ]
  },
  {
   "cell_type": "code",
   "execution_count": 5,
   "metadata": {},
   "outputs": [
    {
     "name": "stdout",
     "output_type": "stream",
     "text": [
      "8159870.4\n"
     ]
    }
   ],
   "source": [
    "# Paris to Moscow Distance\n",
    "# https://www.distance.to/Moscow/Paris\n",
    "paris_to_moscow_miles = 1545.43\n",
    "feet_per_mile = 5280\n",
    "paris_to_moscow_feet = paris_to_moscow_miles * feet_per_mile\n",
    "print(paris_to_moscow_feet)\n"
   ]
  },
  {
   "cell_type": "code",
   "execution_count": 12,
   "metadata": {},
   "outputs": [
    {
     "name": "stdout",
     "output_type": "stream",
     "text": [
      "Number of Bills: 22771731349.0\n"
     ]
    }
   ],
   "source": [
    "# Total bills to stack from Paris to Moscow\n",
    "total_distance = paris_to_moscow_feet * bills_per_foot\n",
    "print(\"Number of Bills: {}\".format(round(total_distance,0)))"
   ]
  },
  {
   "cell_type": "code",
   "execution_count": null,
   "metadata": {
    "collapsed": true
   },
   "outputs": [],
   "source": []
  }
 ],
 "metadata": {
  "kernelspec": {
   "display_name": "Python 3",
   "language": "python",
   "name": "python3"
  },
  "language_info": {
   "codemirror_mode": {
    "name": "ipython",
    "version": 3
   },
   "file_extension": ".py",
   "mimetype": "text/x-python",
   "name": "python",
   "nbconvert_exporter": "python",
   "pygments_lexer": "ipython3",
   "version": "3.6.2"
  }
 },
 "nbformat": 4,
 "nbformat_minor": 2
}
