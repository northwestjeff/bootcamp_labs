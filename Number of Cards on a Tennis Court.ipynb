{
 "cells": [
  {
   "cell_type": "code",
   "execution_count": 1,
   "metadata": {
    "collapsed": true
   },
   "outputs": [],
   "source": [
    "#How many playing cards would it take to cover a doubles tennis court?"
   ]
  },
  {
   "cell_type": "code",
   "execution_count": 7,
   "metadata": {
    "collapsed": true
   },
   "outputs": [],
   "source": [
    "# Card dimensions in inches\n",
    "# https://www.quora.com/What-are-the-dimensions-of-a-standard-playing-card\n",
    "playing_card_width_inches = 2.5\n",
    "playing_card_length_inches = 3.5"
   ]
  },
  {
   "cell_type": "code",
   "execution_count": 8,
   "metadata": {
    "collapsed": true
   },
   "outputs": [],
   "source": [
    "# Tennis court dimensions in feet\n",
    "# https://en.wikipedia.org/wiki/Tennis_court\n",
    "tennis_court_width_feet = 36\n",
    "tennis_court_length_feet = 78"
   ]
  },
  {
   "cell_type": "code",
   "execution_count": 9,
   "metadata": {},
   "outputs": [
    {
     "name": "stdout",
     "output_type": "stream",
     "text": [
      "Court Width in inches: 432\n",
      "Court Length in inches: 936\n"
     ]
    }
   ],
   "source": [
    "# Tennis court dimensions converted to inches\n",
    "tennis_court_width_inches = tennis_court_width_feet * 12\n",
    "tennis_court_length_inches = tennis_court_length_feet * 12\n",
    "print(\"Court Width in inches: {}\".format(tennis_court_width_inches))\n",
    "print(\"Court Length in inches: {}\".format(tennis_court_length_inches))"
   ]
  },
  {
   "cell_type": "code",
   "execution_count": 12,
   "metadata": {},
   "outputs": [
    {
     "name": "stdout",
     "output_type": "stream",
     "text": [
      "Cards per length of court: 267.42857142857144\n",
      "Cards per width of court: 172.8\n"
     ]
    }
   ],
   "source": [
    "# Cards per width and length of the court\n",
    "num_cards_length = tennis_court_length_inches / playing_card_length_inches\n",
    "num_cards_width = tennis_court_width_inches / playing_card_width_inches\n",
    "print(\"Cards per length of court: {}\".format(num_cards_length))\n",
    "print(\"Cards per width of court: {}\".format(num_cards_width))"
   ]
  },
  {
   "cell_type": "code",
   "execution_count": 20,
   "metadata": {},
   "outputs": [
    {
     "name": "stdout",
     "output_type": "stream",
     "text": [
      "Total Number of Cards: 46211\n"
     ]
    }
   ],
   "source": [
    "# Total Number of cards to cover the surface area of a doubles tennis court\n",
    "total_surface_area = num_cards_length * num_cards_width\n",
    "print(\"Total Number of Cards: {}\".format(int(total_surface_area)))"
   ]
  },
  {
   "cell_type": "code",
   "execution_count": null,
   "metadata": {
    "collapsed": true
   },
   "outputs": [],
   "source": []
  }
 ],
 "metadata": {
  "kernelspec": {
   "display_name": "Python 3",
   "language": "python",
   "name": "python3"
  },
  "language_info": {
   "codemirror_mode": {
    "name": "ipython",
    "version": 3
   },
   "file_extension": ".py",
   "mimetype": "text/x-python",
   "name": "python",
   "nbconvert_exporter": "python",
   "pygments_lexer": "ipython3",
   "version": "3.6.2"
  }
 },
 "nbformat": 4,
 "nbformat_minor": 2
}
